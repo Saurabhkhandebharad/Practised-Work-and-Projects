{
 "cells": [
  {
   "cell_type": "code",
   "execution_count": 20,
   "id": "d894f41d",
   "metadata": {},
   "outputs": [],
   "source": [
    "# Interest generated on credit defaults with simple interest\n",
    "# In real world scenario, a code much more complicated than this is required for actual analysis.\n",
    "# This is only done for practise, real solution may (definitely) differ."
   ]
  },
  {
   "cell_type": "code",
   "execution_count": 2,
   "id": "828f7a5b",
   "metadata": {},
   "outputs": [
    {
     "data": {
      "text/plain": [
       "' Dividing total customers (1000)\\n1) Punctual customers = 50% = 500\\n2) customers paying 30 days after the last due date = 30% = 300\\n3) customer paying 45 days after the last due date = 15% = 150\\n4) customer paying 60 days after the last due date = 5% = 50\\n'"
      ]
     },
     "execution_count": 2,
     "metadata": {},
     "output_type": "execute_result"
    }
   ],
   "source": [
    "# Let's assume that all the customers spend their average bank balance credit in one go.\n",
    "# Let's divide the amount according to its usage\n",
    "\n",
    "'''\n",
    "1) income of company through interest: avg.card balance = 1000, Interest rate = 15% per year\n",
    "(i.e 1.25% monthly), bill issue date = 1st of each month, credit free days = first 15\n",
    "2) fixed yearly income = member fee - 20/ card , operating cost = 25/card , affiliation cost = 10/card\n",
    "3) yearly fixed expenditure = loss rate = 3% , cost of funds = 6.5% \n",
    "'''\n",
    "\n",
    "''' Dividing total customers (1000)\n",
    "1) Punctual customers = 50% = 500\n",
    "2) customers paying 30 days after the last due date = 30% = 300\n",
    "3) customer paying 45 days after the last due date = 15% = 150\n",
    "4) customer paying 60 days after the last due date = 5% = 50\n",
    "'''"
   ]
  },
  {
   "cell_type": "markdown",
   "id": "92be5f03",
   "metadata": {},
   "source": [
    "# Monthly Profit"
   ]
  },
  {
   "cell_type": "code",
   "execution_count": 3,
   "id": "34affd47",
   "metadata": {},
   "outputs": [
    {
     "data": {
      "text/plain": [
       "'\\nEOA = float(input(\\'Enter the Entire outstanding amount: \\'))\\ndays = float(input(\\'Enter no. of due days: \\'))\\nrate = float(input(\\'Enter the rate: \\'))\\nsimple_interest = (EOA*days*12*(rate/100))/365\\nprint(\"Simple interest is:\", simple_interest)'"
      ]
     },
     "execution_count": 3,
     "metadata": {},
     "output_type": "execute_result"
    }
   ],
   "source": [
    "'''Let ,\n",
    "Entire outstanding amount = EOA\n",
    "Number of days= days\n",
    "Interest rate per month = rate'''\n",
    "\n",
    "# creating formula to count by applying daily interest rate.\n",
    "\n",
    "\"\"\"\n",
    "EOA = float(input('Enter the Entire outstanding amount: '))\n",
    "days = float(input('Enter no. of due days: '))\n",
    "rate = float(input('Enter the rate: '))\n",
    "simple_interest = (EOA*days*12*(rate/100))/365\n",
    "print(\"Simple interest is:\", simple_interest)\"\"\""
   ]
  },
  {
   "cell_type": "code",
   "execution_count": 4,
   "id": "72ce0ba4",
   "metadata": {},
   "outputs": [
    {
     "name": "stdout",
     "output_type": "stream",
     "text": [
      "Interest to be levied from customers who pay the bill before the last due date is: 3082.1917808219177\n"
     ]
    }
   ],
   "source": [
    "# for customers who pay the bill before the last due date: 50% = 500\n",
    "'''No. of customers = NOC'''\n",
    "\n",
    "NOC = 500\n",
    "EOA = 1000\n",
    "days = 15\n",
    "rate = 1.25\n",
    "total_interest_basic = (NOC*EOA*days*12*(rate/100))/365\n",
    "print(\"Interest to be levied from customers who pay the bill before the last due date is:\", total_interest_basic) "
   ]
  },
  {
   "cell_type": "code",
   "execution_count": 5,
   "id": "22183c92",
   "metadata": {},
   "outputs": [],
   "source": [
    "# As these customers paid back their dues within time, there won't be any interest levied."
   ]
  },
  {
   "cell_type": "code",
   "execution_count": 6,
   "id": "df58ff8a",
   "metadata": {},
   "outputs": [
    {
     "name": "stdout",
     "output_type": "stream",
     "text": [
      "Interest to be levied from customers paying 30 days after the last due date is: 6780.821917808219\n"
     ]
    }
   ],
   "source": [
    "# for customers paying 30 days after the last due date = 30% = 300\n",
    "'''days in total = 15+30'''\n",
    "\n",
    "NOC = 300\n",
    "EOA = 1000\n",
    "days = 30\n",
    "rate = 1.25\n",
    "interest_on_30_due_days = (NOC*EOA*days*12*(rate/100))/365 + total_interest_basic\n",
    "print(\"Interest to be levied from customers paying 30 days after the last due date is:\", interest_on_30_due_days ) "
   ]
  },
  {
   "cell_type": "code",
   "execution_count": 7,
   "id": "30c89b3e",
   "metadata": {},
   "outputs": [
    {
     "name": "stdout",
     "output_type": "stream",
     "text": [
      "Interest to be levied customers paying 45 days after the last due date is: 5856.164383561643\n"
     ]
    }
   ],
   "source": [
    "# for customer paying 45 days after the last due date = 15% = 150\n",
    "'''No. of days = 15+45'''\n",
    "\n",
    "NOC = 150\n",
    "EOA = 1000\n",
    "days = 45\n",
    "rate = 1.25\n",
    "interest_on_45_due_days = (NOC*EOA*days*12*(rate/100))/365 + total_interest_basic\n",
    "print(\"Interest to be levied customers paying 45 days after the last due date is:\", interest_on_45_due_days) "
   ]
  },
  {
   "cell_type": "code",
   "execution_count": 8,
   "id": "20b4e9e8",
   "metadata": {},
   "outputs": [
    {
     "name": "stdout",
     "output_type": "stream",
     "text": [
      "Interest to be levied from customers paying 60 days after the last due date is: 4315.068493150685\n"
     ]
    }
   ],
   "source": [
    "# for customer paying 60 days after the last due date = 5% = 50\n",
    "'''No. of days = 15+60'''\n",
    "\n",
    "NOC = 50\n",
    "EOA = 1000\n",
    "days = 60\n",
    "rate = 1.25\n",
    "interest_on_60_due_days = (NOC*EOA*days*12*(rate/100))/365 + total_interest_basic\n",
    "print(\"Interest to be levied from customers paying 60 days after the last due date is:\", interest_on_60_due_days) "
   ]
  },
  {
   "cell_type": "code",
   "execution_count": 9,
   "id": "ed77f810",
   "metadata": {},
   "outputs": [
    {
     "data": {
      "text/plain": [
       "16952.054794520547"
      ]
     },
     "execution_count": 9,
     "metadata": {},
     "output_type": "execute_result"
    }
   ],
   "source": [
    "# total interest in a month considering they all pay back in same month\n",
    "total_interest_in_a_month = interest_on_30_due_days + interest_on_45_due_days + interest_on_60_due_days\n",
    "total_interest_in_a_month"
   ]
  },
  {
   "cell_type": "code",
   "execution_count": 10,
   "id": "90d79120",
   "metadata": {},
   "outputs": [],
   "source": [
    "# this is the monthly income of credit card company solely based on interest.\n",
    "# Other fees will be included in the yearly income."
   ]
  },
  {
   "cell_type": "markdown",
   "id": "0427d3ca",
   "metadata": {},
   "source": [
    "# Profit gererated in one year"
   ]
  },
  {
   "cell_type": "code",
   "execution_count": 11,
   "id": "285ff6d3",
   "metadata": {},
   "outputs": [
    {
     "data": {
      "text/plain": [
       "'\\nNow, we know that average card balance of a single user is 1000 Rs. For 1000 such customers it is,\\n1000*1000 = 1000000 (per month)\\nSo, for a whole year,\\n1000*1000*12 = 12000000 Rs of funds are provided by the bank to C.C. company.\\n'"
      ]
     },
     "execution_count": 11,
     "metadata": {},
     "output_type": "execute_result"
    }
   ],
   "source": [
    "# Calculating the profit without considering the defaulters (what an ideal world that would be!)\n",
    "\"\"\"\n",
    "Now, we know that average card balance of a single user is 1000 Rs. For 1000 such customers it is,\n",
    "1000*1000 = 1000000 (per month)\n",
    "So, for a whole year,\n",
    "1000*1000*12 = 12000000 Rs of funds are provided by the bank to C.C. company.\n",
    "\"\"\""
   ]
  },
  {
   "cell_type": "code",
   "execution_count": 12,
   "id": "015255fd",
   "metadata": {},
   "outputs": [
    {
     "data": {
      "text/plain": [
       "780000.0"
      ]
     },
     "execution_count": 12,
     "metadata": {},
     "output_type": "execute_result"
    }
   ],
   "source": [
    "# So, the expenditure on cost of funds are;\n",
    "cost_of_funds = 12000000*(6.5/100)\n",
    "cost_of_funds"
   ]
  },
  {
   "cell_type": "code",
   "execution_count": 13,
   "id": "923bee75",
   "metadata": {},
   "outputs": [
    {
     "data": {
      "text/plain": [
       "360000.0"
      ]
     },
     "execution_count": 13,
     "metadata": {},
     "output_type": "execute_result"
    }
   ],
   "source": [
    "# Expenditure because of loss rate\n",
    "lost_interest = 12000000*(3/100)\n",
    "lost_interest"
   ]
  },
  {
   "cell_type": "code",
   "execution_count": 14,
   "id": "98418e87",
   "metadata": {},
   "outputs": [
    {
     "data": {
      "text/plain": [
       "1140000"
      ]
     },
     "execution_count": 14,
     "metadata": {},
     "output_type": "execute_result"
    }
   ],
   "source": [
    "total_expenditure = 780000 + 360000\n",
    "total_expenditure"
   ]
  },
  {
   "cell_type": "code",
   "execution_count": 15,
   "id": "65115165",
   "metadata": {},
   "outputs": [
    {
     "data": {
      "text/plain": [
       "55000"
      ]
     },
     "execution_count": 15,
     "metadata": {},
     "output_type": "execute_result"
    }
   ],
   "source": [
    "# fixed yearly income = member fee - 20/ card , operating cost = 25/card , affiliation cost = 10/card\n",
    "fixed_yearly_income = (20*1000) + (25*1000) + (10*1000)\n",
    "fixed_yearly_income"
   ]
  },
  {
   "cell_type": "code",
   "execution_count": 16,
   "id": "5265cc98",
   "metadata": {},
   "outputs": [
    {
     "data": {
      "text/plain": [
       "1800000.0"
      ]
     },
     "execution_count": 16,
     "metadata": {},
     "output_type": "execute_result"
    }
   ],
   "source": [
    "yearly_interest = 12000000 * (15/100)\n",
    "yearly_interest"
   ]
  },
  {
   "cell_type": "code",
   "execution_count": 17,
   "id": "906ad3a5",
   "metadata": {},
   "outputs": [
    {
     "data": {
      "text/plain": [
       "715000.0"
      ]
     },
     "execution_count": 17,
     "metadata": {},
     "output_type": "execute_result"
    }
   ],
   "source": [
    "total_profit_in_a_year = yearly_interest + fixed_yearly_income - total_expenditure\n",
    "total_profit_in_a_year"
   ]
  },
  {
   "cell_type": "code",
   "execution_count": 18,
   "id": "47d41261",
   "metadata": {},
   "outputs": [
    {
     "data": {
      "text/plain": [
       "5.958333333333334"
      ]
     },
     "execution_count": 18,
     "metadata": {},
     "output_type": "execute_result"
    }
   ],
   "source": [
    "profit_percentage = (total_profit_in_a_year/12000000)*100\n",
    "profit_percentage"
   ]
  },
  {
   "cell_type": "code",
   "execution_count": 19,
   "id": "56b9ef8f",
   "metadata": {},
   "outputs": [],
   "source": [
    "# if we count interest collected from all the customers who pay bill after the due date,\n",
    "# then the profit made in a year would be much higher.\n",
    "# for that we need to create a calender for each customer with correct calculation of defaulted days,\n",
    "# so that we can apply daily interest to such cases."
   ]
  }
 ],
 "metadata": {
  "kernelspec": {
   "display_name": "Python 3 (ipykernel)",
   "language": "python",
   "name": "python3"
  },
  "language_info": {
   "codemirror_mode": {
    "name": "ipython",
    "version": 3
   },
   "file_extension": ".py",
   "mimetype": "text/x-python",
   "name": "python",
   "nbconvert_exporter": "python",
   "pygments_lexer": "ipython3",
   "version": "3.10.2"
  }
 },
 "nbformat": 4,
 "nbformat_minor": 5
}
